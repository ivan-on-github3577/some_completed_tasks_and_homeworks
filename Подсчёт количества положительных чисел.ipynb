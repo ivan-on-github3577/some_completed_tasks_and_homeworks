{
  "nbformat": 4,
  "nbformat_minor": 0,
  "metadata": {
    "colab": {
      "provenance": []
    },
    "kernelspec": {
      "name": "python3",
      "display_name": "Python 3"
    },
    "language_info": {
      "name": "python"
    }
  },
  "cells": [
    {
      "cell_type": "code",
      "execution_count": 1,
      "metadata": {
        "id": "da06pS7z4KBr"
      },
      "outputs": [],
      "source": [
        "from random import randint"
      ]
    },
    {
      "cell_type": "code",
      "source": [
        "numbers = []\n",
        "for i in range(15):\n",
        "  numbers.append(randint(-5, 5))\n",
        "\n",
        "print(numbers)"
      ],
      "metadata": {
        "colab": {
          "base_uri": "https://localhost:8080/"
        },
        "id": "37gTmJF_4f7L",
        "outputId": "2be901fb-5494-49b2-ad91-6394c812f8e0"
      },
      "execution_count": 6,
      "outputs": [
        {
          "output_type": "stream",
          "name": "stdout",
          "text": [
            "[3, 4, -2, -1, 2, 0, 5, -4, -3, -5, 0, -5, 2, 2, 4]\n"
          ]
        }
      ]
    },
    {
      "cell_type": "code",
      "source": [
        "positive_numbers_quantity = 0\n",
        "for number in numbers:\n",
        "  if number > 0:\n",
        "    positive_numbers_quantity += 1\n",
        "\n",
        "print('Количество положительных чисел составляет', positive_numbers_quantity, 'штук.')"
      ],
      "metadata": {
        "colab": {
          "base_uri": "https://localhost:8080/"
        },
        "id": "muwJyCT67LCZ",
        "outputId": "3680d362-3d8d-486a-9bc7-6f7497fe4e12"
      },
      "execution_count": 7,
      "outputs": [
        {
          "output_type": "stream",
          "name": "stdout",
          "text": [
            "Количество положительных чисел составляет 7 штук.\n"
          ]
        }
      ]
    }
  ]
}