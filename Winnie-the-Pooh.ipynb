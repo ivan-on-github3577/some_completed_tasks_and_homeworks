{
  "nbformat": 4,
  "nbformat_minor": 0,
  "metadata": {
    "colab": {
      "provenance": []
    },
    "kernelspec": {
      "name": "python3",
      "display_name": "Python 3"
    },
    "language_info": {
      "name": "python"
    }
  },
  "cells": [
    {
      "cell_type": "markdown",
      "source": [
        "# Винни-Пух\n",
        "\n",
        "#### Винни-Пух попросил вас посмотреть, есть ли в его стихах ритм. Поскольку разобраться в его кричалках не настолько просто, насколько легко он их придумывает, вам стоит написать программу.\n",
        "#### Винни-Пух считает, что ритм есть, если число слогов (т.е. число гласных букв) в каждой фразе стихотворения одинаковое. Фраза может состоять из одного слова, если во фразе несколько слов, то они разделяются дефисами. Фразы отделяются друг от друга пробелами.\n",
        "#### Стихотворение  Винни-Пух передаст вам автоматически в переменную \"stroka\" в виде строки. В ответе напишите \"Парам пам-пам\", если с ритмом все в порядке и \"Пам парам\", если с ритмом все не в порядке.\n",
        "#### Если фраза только одна, то ритм определить не получится и необходимо вывести: \"Количество фраз должно быть больше одной!\".\n",
        "#### На входе:\n",
        "#### stroka = 'пара-ра-рам рам-пам-папам па-ра-па-дам'\n",
        "#### На выходе:\n",
        "#### Парам пам-пам\n"
      ],
      "metadata": {
        "id": "W6MYHswhCSFU"
      }
    },
    {
      "cell_type": "code",
      "source": [
        "stroka = 'пара-ра-рам рам-пам-папам па-ра-па-дам'\n",
        "\n",
        "def rhythm_or_not(text):\n",
        "    phrases = text.split() # делим на фразы(разделитель пробел - убираем при этом)\n",
        "    vowels = 'аеёиоуыэюяАЕЁИОУЫЭЮЯaeiouyAEIOUY'\n",
        "    vowels_in_phrases = []\n",
        "    for phrase in phrases:\n",
        "        vowels_in_phrase = 0\n",
        "        for letter in phrase:\n",
        "            if letter in vowels:\n",
        "                vowels_in_phrase += 1\n",
        "        vowels_in_phrases.append(vowels_in_phrase)\n",
        "\n",
        "    same_or_not = []\n",
        "    for i in range(1, len(vowels_in_phrases)):\n",
        "        if vowels_in_phrases[i] == vowels_in_phrases[i-1]:\n",
        "            same_or_not.append(True)\n",
        "        else:\n",
        "            same_or_not.append(False)\n",
        "\n",
        "    if len(phrases) < 2:\n",
        "        print('Количество фраз должно быть больше одной!') # фраза только одна(или их нет)\n",
        "    elif all(same_or_not): # условие сработает, если в \"same_or_not\" все True и ни одного False\n",
        "        print('Парам пам-пам') # с ритмом всё в порядке(он есть)\n",
        "    else:\n",
        "        print('Пам парам') # с ритмом не всё в порядке(его нет)\n",
        "\n",
        "\n",
        "rhythm_or_not(stroka)"
      ],
      "metadata": {
        "colab": {
          "base_uri": "https://localhost:8080/"
        },
        "id": "kfvVxDukRQWH",
        "outputId": "da1f3c1a-c40a-4bb6-aa66-678a76cb1547"
      },
      "execution_count": null,
      "outputs": [
        {
          "output_type": "stream",
          "name": "stdout",
          "text": [
            "Парам пам-пам\n"
          ]
        }
      ]
    }
  ]
}