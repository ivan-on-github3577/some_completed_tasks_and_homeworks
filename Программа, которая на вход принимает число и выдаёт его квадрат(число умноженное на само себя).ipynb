{
  "nbformat": 4,
  "nbformat_minor": 0,
  "metadata": {
    "colab": {
      "provenance": []
    },
    "kernelspec": {
      "name": "python3",
      "display_name": "Python 3"
    },
    "language_info": {
      "name": "python"
    }
  },
  "cells": [
    {
      "cell_type": "code",
      "execution_count": 7,
      "metadata": {
        "colab": {
          "base_uri": "https://localhost:8080/"
        },
        "id": "AxEcokYaomIJ",
        "outputId": "c927515c-8d94-4281-91eb-db9f33b54ed0"
      },
      "outputs": [
        {
          "output_type": "stream",
          "name": "stdout",
          "text": [
            "Введите число, чтобы получить его квадрат.\n",
            " 2.5\n",
            "6.25\n"
          ]
        }
      ],
      "source": [
        "number = input('Введите число, чтобы получить его квадрат.\\n ')\n",
        "try:\n",
        "  number = int(number)\n",
        "  print(number * number)\n",
        "except:\n",
        "  try:\n",
        "    number = float(number)\n",
        "    print(number * number)\n",
        "  except:\n",
        "    print('Ошибка. Вы ввели нечисло. Пожалуйста попробуйте заново и введите число.')"
      ]
    }
  ]
}