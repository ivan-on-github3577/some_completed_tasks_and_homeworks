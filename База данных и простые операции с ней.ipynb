{
  "nbformat": 4,
  "nbformat_minor": 0,
  "metadata": {
    "colab": {
      "provenance": []
    },
    "kernelspec": {
      "name": "python3",
      "display_name": "Python 3"
    },
    "language_info": {
      "name": "python"
    }
  },
  "cells": [
    {
      "cell_type": "code",
      "execution_count": 1,
      "metadata": {
        "id": "eSIX69Piu2bx"
      },
      "outputs": [],
      "source": [
        "import sqlite3"
      ]
    },
    {
      "cell_type": "markdown",
      "source": [
        "#### Создаю базу данных (БД) и курсор к ней, чтобы далее работать с этой БД."
      ],
      "metadata": {
        "id": "JiEXkPodwO2r"
      }
    },
    {
      "cell_type": "code",
      "source": [
        "db = sqlite3.connect('/content/data base.db')\n",
        "cursor = db.cursor()"
      ],
      "metadata": {
        "id": "mS4rFpqbv_u1"
      },
      "execution_count": 2,
      "outputs": []
    },
    {
      "cell_type": "markdown",
      "source": [
        "#### Создаю в БД таблицу с пятью колонками. Не забывая сохранять выполненные изменения в БД с помощью метода \"commit()\"."
      ],
      "metadata": {
        "id": "-eoeoJmjyPKX"
      }
    },
    {
      "cell_type": "code",
      "source": [
        "cursor.execute(\"CREATE TABLE five_columns_table(car_id INT PRIMARY KEY,\\\n",
        "                                                year_of_manufacture_of_the_car INT,\\\n",
        "                                                name_of_owner TEXT,\\\n",
        "                                                license_plate TEXT,\\\n",
        "                                                registration_region INT);\")\n",
        "db.commit()"
      ],
      "metadata": {
        "id": "aZ3tngjryvHh"
      },
      "execution_count": 3,
      "outputs": []
    },
    {
      "cell_type": "markdown",
      "source": [
        "#### Добавляю пять записей(строк) в таблицу."
      ],
      "metadata": {
        "id": "sDQwiAqn0pUJ"
      }
    },
    {
      "cell_type": "code",
      "source": [
        "# одну запись\n",
        "\n",
        "cursor.execute(\"INSERT INTO five_columns_table VALUES('4', '2019', 'Maxim Dyagev', 'T 800 KP', '59');\")\n",
        "db.commit()"
      ],
      "metadata": {
        "id": "HaDbrtbG0wsj"
      },
      "execution_count": 4,
      "outputs": []
    },
    {
      "cell_type": "code",
      "source": [
        "# другую запись кортежем\n",
        "\n",
        "tuple_for_table = ('6', '2019', 'Lidiya Tunova', 'M 036 HH', '59')\n",
        "\n",
        "cursor.execute(\"INSERT INTO five_columns_table VALUES(?, ?, ?, ?, ?);\", tuple_for_table)\n",
        "db.commit()"
      ],
      "metadata": {
        "id": "c-lH8IEu4ipD"
      },
      "execution_count": 5,
      "outputs": []
    },
    {
      "cell_type": "code",
      "source": [
        "# несколько записей списком кортежей\n",
        "\n",
        "three_tuples_list_for_table = [('9', '2021', 'Andrey Kirtov', 'A 500 OX', '59'),\n",
        "                               ('80', '2019', 'Olga Vifeeva', 'C 705 MB', '159'),\n",
        "                               ('271', '2014', 'Georgiy Lirov', 'H 998 XE', '59')]\n",
        "\n",
        "cursor.executemany(\"INSERT INTO five_columns_table VALUES(?, ?, ?, ?, ?);\", three_tuples_list_for_table)\n",
        "db.commit()"
      ],
      "metadata": {
        "id": "7QdW9zkq7tXw"
      },
      "execution_count": 6,
      "outputs": []
    },
    {
      "cell_type": "markdown",
      "source": [
        "#### Запрашиваю записи из таблицы."
      ],
      "metadata": {
        "id": "xqjlQ1TY_QtW"
      }
    },
    {
      "cell_type": "code",
      "source": [
        "# конкретный результат\n",
        "\n",
        "cursor.execute(\"SELECT * FROM five_columns_table WHERE name_of_owner='Georgiy Lirov';\") # условие\n",
        "concrete_result = cursor.fetchone()\n",
        "print(concrete_result)"
      ],
      "metadata": {
        "colab": {
          "base_uri": "https://localhost:8080/"
        },
        "id": "g7h3gPFv_YIJ",
        "outputId": "76275d38-79dd-40d1-b643-78a720d8826b"
      },
      "execution_count": 7,
      "outputs": [
        {
          "output_type": "stream",
          "name": "stdout",
          "text": [
            "(271, 2014, 'Georgiy Lirov', 'H 998 XE', 59)\n"
          ]
        }
      ]
    },
    {
      "cell_type": "code",
      "source": [
        "# первый результат\n",
        "\n",
        "cursor.execute(\"SELECT * FROM five_columns_table;\") # нет условия\n",
        "first_result = cursor.fetchone()\n",
        "print(first_result)"
      ],
      "metadata": {
        "colab": {
          "base_uri": "https://localhost:8080/"
        },
        "id": "wWc-sJHiApNi",
        "outputId": "5d1c4f12-acb6-4bda-8f8b-f9104ab505a4"
      },
      "execution_count": 8,
      "outputs": [
        {
          "output_type": "stream",
          "name": "stdout",
          "text": [
            "(4, 2019, 'Maxim Dyagev', 'T 800 KP', 59)\n"
          ]
        }
      ]
    },
    {
      "cell_type": "code",
      "source": [
        "# запрос нескольких записей\n",
        "\n",
        "cursor.execute(\"SELECT * FROM five_columns_table WHERE registration_region='59';\") # у нас 4 таких записи\n",
        "many_result = cursor.fetchmany(3) # запросим первые три\n",
        "print(many_result)"
      ],
      "metadata": {
        "colab": {
          "base_uri": "https://localhost:8080/"
        },
        "id": "TWozUz1ABM_z",
        "outputId": "eb43ee75-640f-4e97-b75f-2a51b31ab15c"
      },
      "execution_count": 9,
      "outputs": [
        {
          "output_type": "stream",
          "name": "stdout",
          "text": [
            "[(4, 2019, 'Maxim Dyagev', 'T 800 KP', 59), (6, 2019, 'Lidiya Tunova', 'M 036 HH', 59), (9, 2021, 'Andrey Kirtov', 'A 500 OX', 59)]\n"
          ]
        }
      ]
    },
    {
      "cell_type": "code",
      "source": [
        "# запрос всех записей, отвечающих условию\n",
        "\n",
        "cursor.execute(\"SELECT * FROM five_columns_table WHERE registration_region='59';\") # условие\n",
        "all_results_with_condition = cursor.fetchall() # те самые 4 записи, запросим их все и убедимся,\n",
        "                                               # что их не больше, чем мы думали\n",
        "print(all_results_with_condition)"
      ],
      "metadata": {
        "colab": {
          "base_uri": "https://localhost:8080/"
        },
        "id": "FYRpK3jlFYeR",
        "outputId": "01f3ee6b-575d-4ac4-e61f-da7bed2212d6"
      },
      "execution_count": 10,
      "outputs": [
        {
          "output_type": "stream",
          "name": "stdout",
          "text": [
            "[(4, 2019, 'Maxim Dyagev', 'T 800 KP', 59), (6, 2019, 'Lidiya Tunova', 'M 036 HH', 59), (9, 2021, 'Andrey Kirtov', 'A 500 OX', 59), (271, 2014, 'Georgiy Lirov', 'H 998 XE', 59)]\n"
          ]
        }
      ]
    },
    {
      "cell_type": "code",
      "source": [
        "# запрос абсолютно всех записей\n",
        "\n",
        "cursor.execute(\"SELECT * FROM five_columns_table;\") # нет условия\n",
        "all_results = cursor.fetchall()\n",
        "print(all_results)"
      ],
      "metadata": {
        "colab": {
          "base_uri": "https://localhost:8080/"
        },
        "id": "_yWIjv9UD6Iy",
        "outputId": "35a0bcd2-a888-4c64-d799-0d1409da6607"
      },
      "execution_count": 11,
      "outputs": [
        {
          "output_type": "stream",
          "name": "stdout",
          "text": [
            "[(4, 2019, 'Maxim Dyagev', 'T 800 KP', 59), (6, 2019, 'Lidiya Tunova', 'M 036 HH', 59), (9, 2021, 'Andrey Kirtov', 'A 500 OX', 59), (80, 2019, 'Olga Vifeeva', 'C 705 MB', 159), (271, 2014, 'Georgiy Lirov', 'H 998 XE', 59)]\n"
          ]
        }
      ]
    },
    {
      "cell_type": "markdown",
      "source": [
        "#### Удаляю записи в таблице."
      ],
      "metadata": {
        "id": "XojJ4XjdJumQ"
      }
    },
    {
      "cell_type": "code",
      "source": [
        "# условие может состоять из нескольких условий\n",
        "\n",
        "cursor.execute(\"DELETE FROM five_columns_table WHERE year_of_manufacture_of_the_car='2019'\\\n",
        "                                                 AND registration_region='59';\")\n",
        "db.commit()"
      ],
      "metadata": {
        "id": "4lVdEsT5Jt2o"
      },
      "execution_count": 12,
      "outputs": []
    },
    {
      "cell_type": "code",
      "source": [
        "# взглянем на результат после удаления\n",
        "\n",
        "cursor.execute(\"SELECT * FROM five_columns_table;\")\n",
        "print(cursor.fetchall())"
      ],
      "metadata": {
        "colab": {
          "base_uri": "https://localhost:8080/"
        },
        "id": "4e3jCNOlNuhS",
        "outputId": "9529f29b-ae7b-434a-bcf5-806d1a698856"
      },
      "execution_count": 13,
      "outputs": [
        {
          "output_type": "stream",
          "name": "stdout",
          "text": [
            "[(9, 2021, 'Andrey Kirtov', 'A 500 OX', 59), (80, 2019, 'Olga Vifeeva', 'C 705 MB', 159), (271, 2014, 'Georgiy Lirov', 'H 998 XE', 59)]\n"
          ]
        }
      ]
    },
    {
      "cell_type": "markdown",
      "source": [
        "#### Изменяю запись в таблице."
      ],
      "metadata": {
        "id": "yhEQgo--iDcT"
      }
    },
    {
      "cell_type": "code",
      "source": [
        "cursor.execute(\"UPDATE five_columns_table SET license_plate='O 999 AX' WHERE license_plate='A 500 OX';\")\n",
        "db.commit()"
      ],
      "metadata": {
        "id": "8UWQTgJner83"
      },
      "execution_count": 14,
      "outputs": []
    },
    {
      "cell_type": "code",
      "source": [
        "# взглянем, что в БД теперь\n",
        "\n",
        "cursor.execute(\"SELECT * FROM five_columns_table;\")\n",
        "print(cursor.fetchall())"
      ],
      "metadata": {
        "colab": {
          "base_uri": "https://localhost:8080/"
        },
        "id": "ovZc-LFgiWg5",
        "outputId": "4a5ad59a-a04d-4623-f0f8-6c8add9dd628"
      },
      "execution_count": 15,
      "outputs": [
        {
          "output_type": "stream",
          "name": "stdout",
          "text": [
            "[(9, 2021, 'Andrey Kirtov', 'O 999 AX', 59), (80, 2019, 'Olga Vifeeva', 'C 705 MB', 159), (271, 2014, 'Georgiy Lirov', 'H 998 XE', 59)]\n"
          ]
        }
      ]
    },
    {
      "cell_type": "markdown",
      "source": [
        "#### Переименовываю таблицу."
      ],
      "metadata": {
        "id": "eVZjHjFh25SI"
      }
    },
    {
      "cell_type": "code",
      "source": [
        "cursor.execute(\"ALTER TABLE five_columns_table RENAME TO old_table;\")\n",
        "db.commit()"
      ],
      "metadata": {
        "id": "HTgWSRyx29hE"
      },
      "execution_count": 16,
      "outputs": []
    },
    {
      "cell_type": "markdown",
      "source": [
        "#### Удаляю таблицу."
      ],
      "metadata": {
        "id": "C1ABgxEj2tXa"
      }
    },
    {
      "cell_type": "code",
      "source": [
        "cursor.execute(\"DROP TABLE old_table;\")\n",
        "db.commit()"
      ],
      "metadata": {
        "id": "Vzsmxzrg0G0g"
      },
      "execution_count": 17,
      "outputs": []
    },
    {
      "cell_type": "markdown",
      "source": [
        "#### Завершаю работу с БД."
      ],
      "metadata": {
        "id": "OgjPvf9Yishs"
      }
    },
    {
      "cell_type": "code",
      "source": [
        "cursor.close()\n",
        "db.close()"
      ],
      "metadata": {
        "id": "B5vV-H85eKiz"
      },
      "execution_count": 18,
      "outputs": []
    }
  ]
}