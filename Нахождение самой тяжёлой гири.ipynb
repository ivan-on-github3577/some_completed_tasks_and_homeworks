{
  "nbformat": 4,
  "nbformat_minor": 0,
  "metadata": {
    "colab": {
      "provenance": []
    },
    "kernelspec": {
      "name": "python3",
      "display_name": "Python 3"
    },
    "language_info": {
      "name": "python"
    }
  },
  "cells": [
    {
      "cell_type": "code",
      "source": [
        "from random import randint"
      ],
      "metadata": {
        "id": "dIwq6dIWOyf5"
      },
      "execution_count": 5,
      "outputs": []
    },
    {
      "cell_type": "code",
      "source": [
        "kettlebells = []\n",
        "for i in range(5): # возьмём 5 гирь\n",
        "  kettlebells.append(randint(2, 11)) # случайного веса от 2 до 11 включительно\n",
        "\n",
        "print(kettlebells) # посмотрим какие гири попались"
      ],
      "metadata": {
        "colab": {
          "base_uri": "https://localhost:8080/"
        },
        "id": "P0vVjWP5PDB3",
        "outputId": "8a10e9a8-8612-4bed-d345-af02298beeff"
      },
      "execution_count": 17,
      "outputs": [
        {
          "output_type": "stream",
          "name": "stdout",
          "text": [
            "[5, 11, 9, 2, 5]\n"
          ]
        }
      ]
    },
    {
      "cell_type": "code",
      "source": [
        "max_weight = 0\n",
        "for kettlebell in kettlebells:\n",
        "  if kettlebell > max_weight:\n",
        "    max_weight = kettlebell\n",
        "\n",
        "print('The heaviest kettlebell has a weight of', max_weight)"
      ],
      "metadata": {
        "colab": {
          "base_uri": "https://localhost:8080/"
        },
        "id": "s5lVzpcLfchw",
        "outputId": "22ee1087-a804-4c4a-e1b5-cad4b48b1ffc"
      },
      "execution_count": 18,
      "outputs": [
        {
          "output_type": "stream",
          "name": "stdout",
          "text": [
            "The heaviest kettlebell has a weight of 11\n"
          ]
        }
      ]
    }
  ]
}